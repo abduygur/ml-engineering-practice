{
 "cells": [
  {
   "cell_type": "code",
   "execution_count": 1,
   "id": "a51caaf8",
   "metadata": {},
   "outputs": [
    {
     "name": "stderr",
     "output_type": "stream",
     "text": [
      "/home/abduygur/anaconda3/envs/mleng/lib/python3.8/site-packages/tqdm/auto.py:22: TqdmWarning: IProgress not found. Please update jupyter and ipywidgets. See https://ipywidgets.readthedocs.io/en/stable/user_install.html\n",
      "  from .autonotebook import tqdm as notebook_tqdm\n",
      "2022-03-31 01:13:43.494164: I tensorflow/compiler/jit/xla_cpu_device.cc:41] Not creating XLA devices, tf_xla_enable_xla_devices not set\n",
      "2022-03-31 01:13:43.494636: I tensorflow/core/platform/cpu_feature_guard.cc:142] This TensorFlow binary is optimized with oneAPI Deep Neural Network Library (oneDNN) to use the following CPU instructions in performance-critical operations:  SSE4.1 SSE4.2 AVX AVX2\n",
      "To enable them in other operations, rebuild TensorFlow with the appropriate compiler flags.\n",
      "2022-03-31 01:13:43.495144: I tensorflow/core/common_runtime/process_util.cc:146] Creating new thread pool with default inter op setting: 2. Tune using inter_op_parallelism_threads for best performance.\n"
     ]
    }
   ],
   "source": [
    "# This notebook is a toy example for drift detecting from alibi library\n",
    "\n",
    "from sklearn.datasets import load_wine\n",
    "from sklearn.model_selection import train_test_split\n",
    "import alibi\n",
    "from alibi_detect.cd import TabularDrift"
   ]
  },
  {
   "cell_type": "code",
   "execution_count": 2,
   "id": "1dc54eec",
   "metadata": {},
   "outputs": [],
   "source": [
    "# Load wine data\n",
    "wine_data = load_wine()\n",
    "feature_names = wine_data.feature_names\n",
    "X, y = wine_data.data, wine_data.target\n",
    "\n",
    "X_ref, X_test, y_ref, y_test = train_test_split(X, y, \n",
    "                                            test_size=0.5, \n",
    "                                            random_state=42)"
   ]
  },
  {
   "cell_type": "code",
   "execution_count": 4,
   "id": "bc299cfd",
   "metadata": {},
   "outputs": [],
   "source": [
    "cd = TabularDrift(x_ref=X_ref, p_val=.05)"
   ]
  },
  {
   "cell_type": "code",
   "execution_count": 6,
   "id": "d9165539",
   "metadata": {},
   "outputs": [
    {
     "name": "stdout",
     "output_type": "stream",
     "text": [
      "Drift No\n"
     ]
    }
   ],
   "source": [
    "preds = cd.predict(X_test)\n",
    "labels = [\"No\", \"Yes\"]\n",
    "print(f\"Drift {labels[preds['data']['is_drift']]}\")"
   ]
  },
  {
   "cell_type": "code",
   "execution_count": null,
   "id": "feef19ea",
   "metadata": {},
   "outputs": [],
   "source": []
  }
 ],
 "metadata": {
  "kernelspec": {
   "display_name": "Python [conda env:mleng] *",
   "language": "python",
   "name": "conda-env-mleng-py"
  },
  "language_info": {
   "codemirror_mode": {
    "name": "ipython",
    "version": 3
   },
   "file_extension": ".py",
   "mimetype": "text/x-python",
   "name": "python",
   "nbconvert_exporter": "python",
   "pygments_lexer": "ipython3",
   "version": "3.8.13"
  }
 },
 "nbformat": 4,
 "nbformat_minor": 5
}
